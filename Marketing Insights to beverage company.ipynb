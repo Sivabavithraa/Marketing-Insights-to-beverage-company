{
 "cells": [
  {
   "cell_type": "code",
   "execution_count": 9,
   "id": "4a374e86-845c-4e5a-9e2c-35d4c952ef27",
   "metadata": {},
   "outputs": [],
   "source": [
    "import pandas as pd\n",
    "import matplotlib.pyplot as plt\n",
    "import seaborn as sns"
   ]
  },
  {
   "cell_type": "code",
   "execution_count": 10,
   "id": "4b5d2c69-1ec9-43e5-bcce-9e3400b61a78",
   "metadata": {},
   "outputs": [],
   "source": [
    "df_cities=pd.read_csv(r\"D:\\C6 Input Files\\Dataset\\dim_cities.csv\")\n",
    "df_respondents=pd.read_csv(r\"D:\\C6 Input Files\\Dataset\\dim_repondents.csv\")\n",
    "df_fact_survey_responses=pd.read_csv(r\"D:\\C6 Input Files\\Dataset\\fact_survey_responses.csv\")"
   ]
  },
  {
   "cell_type": "code",
   "execution_count": 11,
   "id": "18a5035f-d272-44ac-820e-36f0b26368b5",
   "metadata": {},
   "outputs": [
    {
     "data": {
      "text/html": [
       "<div>\n",
       "<style scoped>\n",
       "    .dataframe tbody tr th:only-of-type {\n",
       "        vertical-align: middle;\n",
       "    }\n",
       "\n",
       "    .dataframe tbody tr th {\n",
       "        vertical-align: top;\n",
       "    }\n",
       "\n",
       "    .dataframe thead th {\n",
       "        text-align: right;\n",
       "    }\n",
       "</style>\n",
       "<table border=\"1\" class=\"dataframe\">\n",
       "  <thead>\n",
       "    <tr style=\"text-align: right;\">\n",
       "      <th></th>\n",
       "      <th>City_ID</th>\n",
       "      <th>City</th>\n",
       "      <th>Tier</th>\n",
       "    </tr>\n",
       "  </thead>\n",
       "  <tbody>\n",
       "    <tr>\n",
       "      <th>0</th>\n",
       "      <td>CT111</td>\n",
       "      <td>Delhi</td>\n",
       "      <td>Tier 1</td>\n",
       "    </tr>\n",
       "    <tr>\n",
       "      <th>1</th>\n",
       "      <td>CT112</td>\n",
       "      <td>Mumbai</td>\n",
       "      <td>Tier 1</td>\n",
       "    </tr>\n",
       "    <tr>\n",
       "      <th>2</th>\n",
       "      <td>CT113</td>\n",
       "      <td>Bangalore</td>\n",
       "      <td>Tier 1</td>\n",
       "    </tr>\n",
       "    <tr>\n",
       "      <th>3</th>\n",
       "      <td>CT114</td>\n",
       "      <td>Chennai</td>\n",
       "      <td>Tier 1</td>\n",
       "    </tr>\n",
       "    <tr>\n",
       "      <th>4</th>\n",
       "      <td>CT115</td>\n",
       "      <td>Kolkata</td>\n",
       "      <td>Tier 2</td>\n",
       "    </tr>\n",
       "  </tbody>\n",
       "</table>\n",
       "</div>"
      ],
      "text/plain": [
       "  City_ID       City    Tier\n",
       "0   CT111      Delhi  Tier 1\n",
       "1   CT112     Mumbai  Tier 1\n",
       "2   CT113  Bangalore  Tier 1\n",
       "3   CT114    Chennai  Tier 1\n",
       "4   CT115    Kolkata  Tier 2"
      ]
     },
     "execution_count": 11,
     "metadata": {},
     "output_type": "execute_result"
    }
   ],
   "source": [
    "df_cities.head(5)"
   ]
  },
  {
   "cell_type": "code",
   "execution_count": 12,
   "id": "745cd1df-b10f-4153-aac8-f99755f8abf8",
   "metadata": {},
   "outputs": [
    {
     "data": {
      "text/plain": [
       "City_ID    0\n",
       "City       0\n",
       "Tier       0\n",
       "dtype: int64"
      ]
     },
     "execution_count": 12,
     "metadata": {},
     "output_type": "execute_result"
    }
   ],
   "source": [
    "df_cities.isna().sum()"
   ]
  },
  {
   "cell_type": "code",
   "execution_count": 13,
   "id": "27551d29-0033-41ec-9130-090ff5c6c8cd",
   "metadata": {},
   "outputs": [
    {
     "data": {
      "text/plain": [
       "City_ID    object\n",
       "City       object\n",
       "Tier       object\n",
       "dtype: object"
      ]
     },
     "execution_count": 13,
     "metadata": {},
     "output_type": "execute_result"
    }
   ],
   "source": [
    "df_cities.dtypes"
   ]
  },
  {
   "cell_type": "code",
   "execution_count": 14,
   "id": "a4534e0b-16b9-4cdd-b443-a4bacd3fb5c5",
   "metadata": {},
   "outputs": [
    {
     "data": {
      "text/html": [
       "<div>\n",
       "<style scoped>\n",
       "    .dataframe tbody tr th:only-of-type {\n",
       "        vertical-align: middle;\n",
       "    }\n",
       "\n",
       "    .dataframe tbody tr th {\n",
       "        vertical-align: top;\n",
       "    }\n",
       "\n",
       "    .dataframe thead th {\n",
       "        text-align: right;\n",
       "    }\n",
       "</style>\n",
       "<table border=\"1\" class=\"dataframe\">\n",
       "  <thead>\n",
       "    <tr style=\"text-align: right;\">\n",
       "      <th></th>\n",
       "      <th>Respondent_ID</th>\n",
       "      <th>Name</th>\n",
       "      <th>Age</th>\n",
       "      <th>Gender</th>\n",
       "      <th>City_ID</th>\n",
       "    </tr>\n",
       "  </thead>\n",
       "  <tbody>\n",
       "    <tr>\n",
       "      <th>0</th>\n",
       "      <td>120031</td>\n",
       "      <td>Aniruddh Issac</td>\n",
       "      <td>15-18</td>\n",
       "      <td>Female</td>\n",
       "      <td>CT117</td>\n",
       "    </tr>\n",
       "    <tr>\n",
       "      <th>1</th>\n",
       "      <td>120032</td>\n",
       "      <td>Trisha Rout</td>\n",
       "      <td>19-30</td>\n",
       "      <td>Male</td>\n",
       "      <td>CT118</td>\n",
       "    </tr>\n",
       "    <tr>\n",
       "      <th>2</th>\n",
       "      <td>120033</td>\n",
       "      <td>Yuvraj  Virk</td>\n",
       "      <td>15-18</td>\n",
       "      <td>Male</td>\n",
       "      <td>CT116</td>\n",
       "    </tr>\n",
       "    <tr>\n",
       "      <th>3</th>\n",
       "      <td>120034</td>\n",
       "      <td>Pranay Chand</td>\n",
       "      <td>31-45</td>\n",
       "      <td>Female</td>\n",
       "      <td>CT113</td>\n",
       "    </tr>\n",
       "    <tr>\n",
       "      <th>4</th>\n",
       "      <td>120035</td>\n",
       "      <td>Mohanlal Joshi</td>\n",
       "      <td>19-30</td>\n",
       "      <td>Female</td>\n",
       "      <td>CT120</td>\n",
       "    </tr>\n",
       "  </tbody>\n",
       "</table>\n",
       "</div>"
      ],
      "text/plain": [
       "   Respondent_ID            Name    Age  Gender City_ID\n",
       "0         120031  Aniruddh Issac  15-18  Female   CT117\n",
       "1         120032     Trisha Rout  19-30    Male   CT118\n",
       "2         120033    Yuvraj  Virk  15-18    Male   CT116\n",
       "3         120034    Pranay Chand  31-45  Female   CT113\n",
       "4         120035  Mohanlal Joshi  19-30  Female   CT120"
      ]
     },
     "execution_count": 14,
     "metadata": {},
     "output_type": "execute_result"
    }
   ],
   "source": [
    "df_respondents.head(5)"
   ]
  },
  {
   "cell_type": "code",
   "execution_count": 15,
   "id": "b8df7e13-91e6-4b29-bcba-8eac8ecde6cb",
   "metadata": {},
   "outputs": [
    {
     "data": {
      "text/plain": [
       "Respondent_ID    0\n",
       "Name             0\n",
       "Age              0\n",
       "Gender           0\n",
       "City_ID          0\n",
       "dtype: int64"
      ]
     },
     "execution_count": 15,
     "metadata": {},
     "output_type": "execute_result"
    }
   ],
   "source": [
    "df_respondents.isna().sum()"
   ]
  },
  {
   "cell_type": "code",
   "execution_count": 16,
   "id": "f9c5531a-6dcd-4f6b-8194-4ce06aef9914",
   "metadata": {},
   "outputs": [
    {
     "data": {
      "text/plain": [
       "Respondent_ID     int64\n",
       "Name             object\n",
       "Age              object\n",
       "Gender           object\n",
       "City_ID          object\n",
       "dtype: object"
      ]
     },
     "execution_count": 16,
     "metadata": {},
     "output_type": "execute_result"
    }
   ],
   "source": [
    "df_respondents.dtypes"
   ]
  },
  {
   "cell_type": "code",
   "execution_count": 22,
   "id": "68571827-13e0-4185-bc5f-8c14a9409a9b",
   "metadata": {},
   "outputs": [],
   "source": [
    "df_respondents[\"Respondent_ID\"]=df_respondents[\"Respondent_ID\"].astype(str)"
   ]
  },
  {
   "cell_type": "code",
   "execution_count": 23,
   "id": "c0ae6a4b-68fb-4d8a-98e5-ce55e11ac017",
   "metadata": {},
   "outputs": [
    {
     "data": {
      "text/plain": [
       "Respondent_ID    object\n",
       "Name             object\n",
       "Age              object\n",
       "Gender           object\n",
       "City_ID          object\n",
       "dtype: object"
      ]
     },
     "execution_count": 23,
     "metadata": {},
     "output_type": "execute_result"
    }
   ],
   "source": [
    "df_respondents.dtypes"
   ]
  },
  {
   "cell_type": "code",
   "execution_count": 24,
   "id": "49849ffe-10d8-454c-9f5b-590113a2c37b",
   "metadata": {},
   "outputs": [
    {
     "data": {
      "text/plain": [
       "Index(['Response_ID', 'Respondent_ID', 'Consume_frequency', 'Consume_time',\n",
       "       'Consume_reason', 'Heard_before', 'Brand_perception',\n",
       "       'General_perception', 'Tried_before', 'Taste_experience',\n",
       "       'Reasons_preventing_trying', 'Current_brands',\n",
       "       'Reasons_for_choosing_brands', 'Improvements_desired',\n",
       "       'Ingredients_expected', 'Health_concerns',\n",
       "       'Interest_in_natural_or_organic', 'Marketing_channels',\n",
       "       'Packaging_preference', 'Limited_edition_packaging', 'Price_range',\n",
       "       'Purchase_location', 'Typical_consumption_situations'],\n",
       "      dtype='object')"
      ]
     },
     "execution_count": 24,
     "metadata": {},
     "output_type": "execute_result"
    }
   ],
   "source": [
    "df_fact_survey_responses.head(5)\n",
    "df_fact_survey_responses.columns\n"
   ]
  },
  {
   "cell_type": "code",
   "execution_count": 26,
   "id": "f8d649a8-2fa6-4bb4-8061-4fa5a6dfcbd0",
   "metadata": {},
   "outputs": [
    {
     "data": {
      "text/plain": [
       "Response_ID                        int64\n",
       "Respondent_ID                      int64\n",
       "Consume_frequency                 object\n",
       "Consume_time                      object\n",
       "Consume_reason                    object\n",
       "Heard_before                      object\n",
       "Brand_perception                  object\n",
       "General_perception                object\n",
       "Tried_before                      object\n",
       "Taste_experience                   int64\n",
       "Reasons_preventing_trying         object\n",
       "Current_brands                    object\n",
       "Reasons_for_choosing_brands       object\n",
       "Improvements_desired              object\n",
       "Ingredients_expected              object\n",
       "Health_concerns                   object\n",
       "Interest_in_natural_or_organic    object\n",
       "Marketing_channels                object\n",
       "Packaging_preference              object\n",
       "Limited_edition_packaging         object\n",
       "Price_range                       object\n",
       "Purchase_location                 object\n",
       "Typical_consumption_situations    object\n",
       "dtype: object"
      ]
     },
     "execution_count": 26,
     "metadata": {},
     "output_type": "execute_result"
    }
   ],
   "source": [
    "df_fact_survey_responses.dtypes"
   ]
  },
  {
   "cell_type": "code",
   "execution_count": 27,
   "id": "a3bdc9b0-0b28-4d77-8e32-36785aa1ba3b",
   "metadata": {},
   "outputs": [],
   "source": [
    "df_fact_survey_responses[\"Respondent_ID\"]=df_fact_survey_responses[\"Respondent_ID\"].astype(str)"
   ]
  },
  {
   "cell_type": "markdown",
   "id": "6885ef9d-49a8-4a2a-bfd1-82852c5a0305",
   "metadata": {},
   "source": [
    "**1.Demographic Insights**\n"
   ]
  },
  {
   "cell_type": "markdown",
   "id": "61f14f3f-de84-4b0f-ba4c-b6fe035063ef",
   "metadata": {},
   "source": [
    "**a. Who prefers energy drink more? (male/female/non-binary?)**"
   ]
  },
  {
   "cell_type": "code",
   "execution_count": 28,
   "id": "d84f78cc-297b-410e-8523-adec2b80974b",
   "metadata": {},
   "outputs": [],
   "source": [
    "df_merge=pd.merge(df_fact_survey_responses,df_respondents, on=[\"Respondent_ID\"])"
   ]
  },
  {
   "cell_type": "code",
   "execution_count": 29,
   "id": "7998e9c2-4dbf-449d-b7ba-9410bd5ab2b5",
   "metadata": {},
   "outputs": [
    {
     "data": {
      "text/html": [
       "<div>\n",
       "<style scoped>\n",
       "    .dataframe tbody tr th:only-of-type {\n",
       "        vertical-align: middle;\n",
       "    }\n",
       "\n",
       "    .dataframe tbody tr th {\n",
       "        vertical-align: top;\n",
       "    }\n",
       "\n",
       "    .dataframe thead th {\n",
       "        text-align: right;\n",
       "    }\n",
       "</style>\n",
       "<table border=\"1\" class=\"dataframe\">\n",
       "  <thead>\n",
       "    <tr style=\"text-align: right;\">\n",
       "      <th></th>\n",
       "      <th>Response_ID</th>\n",
       "      <th>Respondent_ID</th>\n",
       "      <th>Consume_frequency</th>\n",
       "      <th>Consume_time</th>\n",
       "      <th>Consume_reason</th>\n",
       "      <th>Heard_before</th>\n",
       "      <th>Brand_perception</th>\n",
       "      <th>General_perception</th>\n",
       "      <th>Tried_before</th>\n",
       "      <th>Taste_experience</th>\n",
       "      <th>...</th>\n",
       "      <th>Marketing_channels</th>\n",
       "      <th>Packaging_preference</th>\n",
       "      <th>Limited_edition_packaging</th>\n",
       "      <th>Price_range</th>\n",
       "      <th>Purchase_location</th>\n",
       "      <th>Typical_consumption_situations</th>\n",
       "      <th>Name</th>\n",
       "      <th>Age</th>\n",
       "      <th>Gender</th>\n",
       "      <th>City_ID</th>\n",
       "    </tr>\n",
       "  </thead>\n",
       "  <tbody>\n",
       "    <tr>\n",
       "      <th>0</th>\n",
       "      <td>103001</td>\n",
       "      <td>120031</td>\n",
       "      <td>2-3 times a week</td>\n",
       "      <td>To stay awake during work/study</td>\n",
       "      <td>Increased energy and focus</td>\n",
       "      <td>Yes</td>\n",
       "      <td>Neutral</td>\n",
       "      <td>Not sure</td>\n",
       "      <td>No</td>\n",
       "      <td>5</td>\n",
       "      <td>...</td>\n",
       "      <td>TV commercials</td>\n",
       "      <td>Compact and portable cans</td>\n",
       "      <td>Yes</td>\n",
       "      <td>50-99</td>\n",
       "      <td>Supermarkets</td>\n",
       "      <td>Studying/working late</td>\n",
       "      <td>Aniruddh Issac</td>\n",
       "      <td>15-18</td>\n",
       "      <td>Female</td>\n",
       "      <td>CT117</td>\n",
       "    </tr>\n",
       "    <tr>\n",
       "      <th>1</th>\n",
       "      <td>103002</td>\n",
       "      <td>120032</td>\n",
       "      <td>2-3 times a month</td>\n",
       "      <td>Throughout the day</td>\n",
       "      <td>To boost performance</td>\n",
       "      <td>No</td>\n",
       "      <td>Neutral</td>\n",
       "      <td>Not sure</td>\n",
       "      <td>No</td>\n",
       "      <td>5</td>\n",
       "      <td>...</td>\n",
       "      <td>Print media</td>\n",
       "      <td>Compact and portable cans</td>\n",
       "      <td>No</td>\n",
       "      <td>50-99</td>\n",
       "      <td>Supermarkets</td>\n",
       "      <td>Sports/exercise</td>\n",
       "      <td>Trisha Rout</td>\n",
       "      <td>19-30</td>\n",
       "      <td>Male</td>\n",
       "      <td>CT118</td>\n",
       "    </tr>\n",
       "    <tr>\n",
       "      <th>2</th>\n",
       "      <td>103003</td>\n",
       "      <td>120033</td>\n",
       "      <td>Rarely</td>\n",
       "      <td>Before exercise</td>\n",
       "      <td>Increased energy and focus</td>\n",
       "      <td>No</td>\n",
       "      <td>Neutral</td>\n",
       "      <td>Not sure</td>\n",
       "      <td>No</td>\n",
       "      <td>2</td>\n",
       "      <td>...</td>\n",
       "      <td>Online ads</td>\n",
       "      <td>Innovative bottle design</td>\n",
       "      <td>Not Sure</td>\n",
       "      <td>100-150</td>\n",
       "      <td>Supermarkets</td>\n",
       "      <td>Studying/working late</td>\n",
       "      <td>Yuvraj  Virk</td>\n",
       "      <td>15-18</td>\n",
       "      <td>Male</td>\n",
       "      <td>CT116</td>\n",
       "    </tr>\n",
       "    <tr>\n",
       "      <th>3</th>\n",
       "      <td>103004</td>\n",
       "      <td>120034</td>\n",
       "      <td>2-3 times a week</td>\n",
       "      <td>To stay awake during work/study</td>\n",
       "      <td>To boost performance</td>\n",
       "      <td>No</td>\n",
       "      <td>Positive</td>\n",
       "      <td>Dangerous</td>\n",
       "      <td>Yes</td>\n",
       "      <td>5</td>\n",
       "      <td>...</td>\n",
       "      <td>Online ads</td>\n",
       "      <td>Compact and portable cans</td>\n",
       "      <td>No</td>\n",
       "      <td>Above 150</td>\n",
       "      <td>Supermarkets</td>\n",
       "      <td>Sports/exercise</td>\n",
       "      <td>Pranay Chand</td>\n",
       "      <td>31-45</td>\n",
       "      <td>Female</td>\n",
       "      <td>CT113</td>\n",
       "    </tr>\n",
       "    <tr>\n",
       "      <th>4</th>\n",
       "      <td>103005</td>\n",
       "      <td>120035</td>\n",
       "      <td>Daily</td>\n",
       "      <td>To stay awake during work/study</td>\n",
       "      <td>Increased energy and focus</td>\n",
       "      <td>Yes</td>\n",
       "      <td>Neutral</td>\n",
       "      <td>Effective</td>\n",
       "      <td>Yes</td>\n",
       "      <td>5</td>\n",
       "      <td>...</td>\n",
       "      <td>Online ads</td>\n",
       "      <td>Compact and portable cans</td>\n",
       "      <td>Yes</td>\n",
       "      <td>100-150</td>\n",
       "      <td>Online retailers</td>\n",
       "      <td>Studying/working late</td>\n",
       "      <td>Mohanlal Joshi</td>\n",
       "      <td>19-30</td>\n",
       "      <td>Female</td>\n",
       "      <td>CT120</td>\n",
       "    </tr>\n",
       "  </tbody>\n",
       "</table>\n",
       "<p>5 rows × 27 columns</p>\n",
       "</div>"
      ],
      "text/plain": [
       "   Response_ID Respondent_ID  Consume_frequency  \\\n",
       "0       103001        120031   2-3 times a week   \n",
       "1       103002        120032  2-3 times a month   \n",
       "2       103003        120033             Rarely   \n",
       "3       103004        120034   2-3 times a week   \n",
       "4       103005        120035              Daily   \n",
       "\n",
       "                      Consume_time              Consume_reason Heard_before  \\\n",
       "0  To stay awake during work/study  Increased energy and focus          Yes   \n",
       "1               Throughout the day        To boost performance           No   \n",
       "2                  Before exercise  Increased energy and focus           No   \n",
       "3  To stay awake during work/study        To boost performance           No   \n",
       "4  To stay awake during work/study  Increased energy and focus          Yes   \n",
       "\n",
       "  Brand_perception General_perception Tried_before  Taste_experience  ...  \\\n",
       "0          Neutral           Not sure           No                 5  ...   \n",
       "1          Neutral           Not sure           No                 5  ...   \n",
       "2          Neutral           Not sure           No                 2  ...   \n",
       "3         Positive          Dangerous          Yes                 5  ...   \n",
       "4          Neutral          Effective          Yes                 5  ...   \n",
       "\n",
       "  Marketing_channels       Packaging_preference Limited_edition_packaging  \\\n",
       "0     TV commercials  Compact and portable cans                       Yes   \n",
       "1        Print media  Compact and portable cans                        No   \n",
       "2         Online ads   Innovative bottle design                  Not Sure   \n",
       "3         Online ads  Compact and portable cans                        No   \n",
       "4         Online ads  Compact and portable cans                       Yes   \n",
       "\n",
       "  Price_range Purchase_location Typical_consumption_situations  \\\n",
       "0       50-99      Supermarkets          Studying/working late   \n",
       "1       50-99      Supermarkets                Sports/exercise   \n",
       "2     100-150      Supermarkets          Studying/working late   \n",
       "3   Above 150      Supermarkets                Sports/exercise   \n",
       "4     100-150  Online retailers          Studying/working late   \n",
       "\n",
       "             Name    Age  Gender City_ID  \n",
       "0  Aniruddh Issac  15-18  Female   CT117  \n",
       "1     Trisha Rout  19-30    Male   CT118  \n",
       "2    Yuvraj  Virk  15-18    Male   CT116  \n",
       "3    Pranay Chand  31-45  Female   CT113  \n",
       "4  Mohanlal Joshi  19-30  Female   CT120  \n",
       "\n",
       "[5 rows x 27 columns]"
      ]
     },
     "execution_count": 29,
     "metadata": {},
     "output_type": "execute_result"
    }
   ],
   "source": [
    "df_merge.head(5)"
   ]
  },
  {
   "cell_type": "code",
   "execution_count": 30,
   "id": "7b4640e8-7f67-483e-bcca-0549271a676a",
   "metadata": {},
   "outputs": [
    {
     "data": {
      "text/plain": [
       "Text(0.5, 1.0, 'Gender Distribution')"
      ]
     },
     "execution_count": 30,
     "metadata": {},
     "output_type": "execute_result"
    },
    {
     "data": {
      "image/png": "[encoded data removed]",
      "text/plain": [
       "<Figure size 640x480 with 1 Axes>"
      ]
     },
     "metadata": {},
     "output_type": "display_data"
    }
   ],
   "source": [
    "df_merge.groupby(\"Gender\").size().plot(kind=\"pie\",autopct='%1.1f%%')\n",
    "plt.title(\"Gender Distribution\")"
   ]
  },
  {
   "cell_type": "markdown",
   "id": "802078e2-4bf4-4bd8-9e9d-9ade0721d00a",
   "metadata": {},
   "source": [
    "**Answer: Male prefers energy drink more followed by Female and Non-binary**"
   ]
  },
  {
   "cell_type": "markdown",
   "id": "4f6cc963-047b-42cc-92be-3b5b5c7050a9",
   "metadata": {},
   "source": [
    "**b)Which age group prefers energy drinks more?**"
   ]
  },
  {
   "cell_type": "code",
   "execution_count": 31,
   "id": "a602b784-77d5-4b5d-afa0-1cb4e6edddc5",
   "metadata": {},
   "outputs": [
    {
     "data": {
      "text/plain": [
       "Text(0.5, 1.0, ' Energy Drink Prefernce based on Age Group')"
      ]
     },
     "execution_count": 31,
     "metadata": {},
     "output_type": "execute_result"
    },
    {
     "data": {
      "image/png": "[encoded data removed]",
      "text/plain": [
       "<Figure size 640x480 with 1 Axes>"
      ]
     },
     "metadata": {},
     "output_type": "display_data"
    }
   ],
   "source": [
    "df_merge.groupby(\"Age\").size().sort_values(ascending=False).plot(kind=\"barh\",color=\"Green\")\n",
    "plt.title(\" Energy Drink Prefernce based on Age Group\")"
   ]
  },
  {
   "cell_type": "markdown",
   "id": "66a9231f-0e8f-495c-a252-0b084fdb506f",
   "metadata": {},
   "source": [
    "**Answer: Age Group 19-30 prefer energy drink more followed by 31-45,15-18,46-65,65+**"
   ]
  },
  {
   "cell_type": "markdown",
   "id": "0db03bac-1646-4198-838d-d71b499b715f",
   "metadata": {},
   "source": [
    "**C)Which type of marketing reaches the most Youth (15-30)?**"
   ]
  },
  {
   "cell_type": "code",
   "execution_count": 32,
   "id": "21a70958-1436-4b6e-8206-0f94ba9a39a0",
   "metadata": {},
   "outputs": [
    {
     "data": {
      "text/plain": [
       "Marketing_channels\n",
       "Online ads            3373\n",
       "Other                  702\n",
       "Outdoor billboards     702\n",
       "Print media            446\n",
       "TV commercials        1785\n",
       "dtype: int64"
      ]
     },
     "execution_count": 32,
     "metadata": {},
     "output_type": "execute_result"
    }
   ],
   "source": [
    "df_filtered = df_merge[df_merge[\"Age\"].isin([\"15-18\", \"19-30\"])]\n",
    "g=df_filtered.groupby(\"Marketing_channels\").size()\n",
    "g"
   ]
  },
  {
   "cell_type": "code",
   "execution_count": 26,
   "id": "2500fdca-c2c9-49a7-b4d5-b1c815600a4a",
   "metadata": {},
   "outputs": [
    {
     "data": {
      "text/plain": [
       "<Axes: >"
      ]
     },
     "execution_count": 26,
     "metadata": {},
     "output_type": "execute_result"
    },
    {
     "data": {
      "image/png": "[encoded data removed]",
      "text/plain": [
       "<Figure size 640x480 with 1 Axes>"
      ]
     },
     "metadata": {},
     "output_type": "display_data"
    }
   ],
   "source": [
    "g.plot(kind=\"pie\",autopct=\"%1.1f%%\")"
   ]
  },
  {
   "cell_type": "markdown",
   "id": "ab1702f9-667f-4dbc-8a3a-2d2d5c159bcc",
   "metadata": {},
   "source": [
    "**Answer: Online ads reaches most youth**"
   ]
  },
  {
   "cell_type": "markdown",
   "id": "763bd836-7d74-4a8f-8ad8-d9ce18551982",
   "metadata": {},
   "source": [
    "**2.Consumer Preferences:**"
   ]
  },
  {
   "cell_type": "markdown",
   "id": "d6be6c8d-da6c-408a-94bb-e77f9130b204",
   "metadata": {},
   "source": [
    "**a. What are the preferred ingredients of energy drinks among respondents?**"
   ]
  },
  {
   "cell_type": "code",
   "execution_count": 33,
   "id": "3a3fdc7b-b256-4c85-a538-9e2e8f69e1ca",
   "metadata": {},
   "outputs": [
    {
     "data": {
      "text/plain": [
       "Ingredients_expected\n",
       "Caffeine    3896\n",
       "Vitamins    2534\n",
       "Sugar       2017\n",
       "Guarana     1553\n",
       "dtype: int64"
      ]
     },
     "execution_count": 33,
     "metadata": {},
     "output_type": "execute_result"
    }
   ],
   "source": [
    "df_ingredients_exp=df_fact_survey_responses.groupby('Ingredients_expected').size().sort_values(ascending=False)\n",
    "df_ingredients_exp"
   ]
  },
  {
   "cell_type": "code",
   "execution_count": 36,
   "id": "1f2c150f-0bec-40ed-9542-a49f31ae7d8e",
   "metadata": {},
   "outputs": [
    {
     "data": {
      "text/plain": [
       "Text(0, 0.5, 'Count')"
      ]
     },
     "execution_count": 36,
     "metadata": {},
     "output_type": "execute_result"
    },
    {
     "data": {
      "image/png": "[encoded data removed]",
      "text/plain": [
       "<Figure size 640x480 with 1 Axes>"
      ]
     },
     "metadata": {},
     "output_type": "display_data"
    }
   ],
   "source": [
    "df_ingredients_exp.plot(kind='bar', x='Ingredients_expected', y='count', color='purple', legend=False)\n",
    "plt.title(\"Distribution of Preffered Ingredients\")\n",
    "plt.xlabel(\"Ingredients Expected\")\n",
    "plt.ylabel(\"Count\")"
   ]
  },
  {
   "cell_type": "markdown",
   "id": "67df3624-de62-4a92-ac08-db6acf97046c",
   "metadata": {},
   "source": [
    "**Answer:Caffeine and Vitamins are the most preferred ingredients**"
   ]
  },
  {
   "cell_type": "markdown",
   "id": "a07c683e-5fe5-4cea-9f01-797c111c0dde",
   "metadata": {},
   "source": [
    "**What packaging preferences do respondents have for energy drinks?**"
   ]
  },
  {
   "cell_type": "code",
   "execution_count": 31,
   "id": "6db2a21f-267b-4f73-9be4-a42a57708a8e",
   "metadata": {},
   "outputs": [
    {
     "data": {
      "text/plain": [
       "Packaging_preference\n",
       "Compact and portable cans    3984\n",
       "Innovative bottle design     3047\n",
       "Collectible packaging        1501\n",
       "Eco-friendly design           983\n",
       "Other                         485\n",
       "dtype: int64"
      ]
     },
     "execution_count": 31,
     "metadata": {},
     "output_type": "execute_result"
    }
   ],
   "source": [
    "df_packaging_pref=df_fact_survey_responses.groupby('Packaging_preference').size().sort_values(ascending=False)\n",
    "df_packaging_pre"
   ]
  },
  {
   "cell_type": "code",
   "execution_count": 38,
   "id": "ad8f688e-a85f-4d7d-8208-8ceb499e059e",
   "metadata": {},
   "outputs": [
    {
     "data": {
      "text/plain": [
       "Text(0, 0.5, 'Packaging Preference')"
      ]
     },
     "execution_count": 38,
     "metadata": {},
     "output_type": "execute_result"
    },
    {
     "data": {
      "image/png": "[encoded data removed]",
      "text/plain": [
       "<Figure size 640x480 with 1 Axes>"
      ]
     },
     "metadata": {},
     "output_type": "display_data"
    }
   ],
   "source": [
    "df_packaging_pref.plot(kind=\"barh\",color=\"Purple\",y=\"Packaging Preference\")\n",
    "plt.title(\"Distribution of Packaging preference \")\n",
    "plt.xlabel(\"Count\")\n",
    "plt.ylabel(\"Packaging Preference\")"
   ]
  },
  {
   "cell_type": "markdown",
   "id": "3c0e1ec2-5ac8-45b3-8e1b-0ef2be98b4dd",
   "metadata": {},
   "source": [
    "**Answer:People prefer Compact and portable cans and Innovative bottle design**"
   ]
  },
  {
   "cell_type": "markdown",
   "id": "29cc2279-26da-492f-aa56-a905866abb25",
   "metadata": {},
   "source": [
    "**3. Competition Analysis:** "
   ]
  },
  {
   "cell_type": "markdown",
   "id": "cc3d1b3f-bc98-49aa-be2b-96d2572b7da6",
   "metadata": {},
   "source": [
    "**a. Who are the current market leaders?**"
   ]
  },
  {
   "cell_type": "code",
   "execution_count": 13,
   "id": "650e682f-e362-4b66-8504-9db39fbb6a91",
   "metadata": {},
   "outputs": [
    {
     "data": {
      "text/html": [
       "<div>\n",
       "<style scoped>\n",
       "    .dataframe tbody tr th:only-of-type {\n",
       "        vertical-align: middle;\n",
       "    }\n",
       "\n",
       "    .dataframe tbody tr th {\n",
       "        vertical-align: top;\n",
       "    }\n",
       "\n",
       "    .dataframe thead th {\n",
       "        text-align: right;\n",
       "    }\n",
       "</style>\n",
       "<table border=\"1\" class=\"dataframe\">\n",
       "  <thead>\n",
       "    <tr style=\"text-align: right;\">\n",
       "      <th></th>\n",
       "      <th>Current_brands</th>\n",
       "      <th>count</th>\n",
       "    </tr>\n",
       "  </thead>\n",
       "  <tbody>\n",
       "    <tr>\n",
       "      <th>0</th>\n",
       "      <td>Cola-Coka</td>\n",
       "      <td>2538</td>\n",
       "    </tr>\n",
       "    <tr>\n",
       "      <th>1</th>\n",
       "      <td>Bepsi</td>\n",
       "      <td>2112</td>\n",
       "    </tr>\n",
       "    <tr>\n",
       "      <th>2</th>\n",
       "      <td>Gangster</td>\n",
       "      <td>1854</td>\n",
       "    </tr>\n",
       "    <tr>\n",
       "      <th>3</th>\n",
       "      <td>Blue Bull</td>\n",
       "      <td>1058</td>\n",
       "    </tr>\n",
       "    <tr>\n",
       "      <th>4</th>\n",
       "      <td>CodeX</td>\n",
       "      <td>980</td>\n",
       "    </tr>\n",
       "    <tr>\n",
       "      <th>5</th>\n",
       "      <td>Sky 9</td>\n",
       "      <td>979</td>\n",
       "    </tr>\n",
       "    <tr>\n",
       "      <th>6</th>\n",
       "      <td>Others</td>\n",
       "      <td>479</td>\n",
       "    </tr>\n",
       "  </tbody>\n",
       "</table>\n",
       "</div>"
      ],
      "text/plain": [
       "  Current_brands  count\n",
       "0      Cola-Coka   2538\n",
       "1          Bepsi   2112\n",
       "2       Gangster   1854\n",
       "3      Blue Bull   1058\n",
       "4          CodeX    980\n",
       "5          Sky 9    979\n",
       "6         Others    479"
      ]
     },
     "execution_count": 13,
     "metadata": {},
     "output_type": "execute_result"
    }
   ],
   "source": [
    "df_fact_survey_responses.groupby('Current_brands').size().sort_values(ascending=False).reset_index(name=\"count\")"
   ]
  },
  {
   "cell_type": "markdown",
   "id": "76827683-b7d6-4dc5-862d-e8a178233d05",
   "metadata": {},
   "source": [
    "**Answer:Current Market Leaders are Cola-Coka,Bepsi,Gangster**"
   ]
  },
  {
   "cell_type": "markdown",
   "id": "5a8ec90c-bac3-4c87-9f4e-ce178c106b1d",
   "metadata": {},
   "source": [
    "**b.What are the primary reasons consumers prefer those brands over ours?** "
   ]
  },
  {
   "cell_type": "code",
   "execution_count": 29,
   "id": "5a2544a2-5ac4-4db9-8374-f7c8704cb939",
   "metadata": {},
   "outputs": [],
   "source": [
    "df_filter_brands=df_fact_survey_responses[df_fact_survey_responses['Current_brands'].isin([\"Cola-Coka\",\"Bepsi\",\"Gangster\",\"Blue Bull\"])]"
   ]
  },
  {
   "cell_type": "code",
   "execution_count": 30,
   "id": "0c3d1fcd-15fb-4883-a172-ae03c50bd508",
   "metadata": {},
   "outputs": [
    {
     "data": {
      "text/html": [
       "<div>\n",
       "<style scoped>\n",
       "    .dataframe tbody tr th:only-of-type {\n",
       "        vertical-align: middle;\n",
       "    }\n",
       "\n",
       "    .dataframe tbody tr th {\n",
       "        vertical-align: top;\n",
       "    }\n",
       "\n",
       "    .dataframe thead th {\n",
       "        text-align: right;\n",
       "    }\n",
       "</style>\n",
       "<table border=\"1\" class=\"dataframe\">\n",
       "  <thead>\n",
       "    <tr style=\"text-align: right;\">\n",
       "      <th></th>\n",
       "      <th>Reasons_for_choosing_brands</th>\n",
       "      <th>count</th>\n",
       "    </tr>\n",
       "  </thead>\n",
       "  <tbody>\n",
       "    <tr>\n",
       "      <th>0</th>\n",
       "      <td>Brand reputation</td>\n",
       "      <td>1993</td>\n",
       "    </tr>\n",
       "    <tr>\n",
       "      <th>1</th>\n",
       "      <td>Taste/flavor preference</td>\n",
       "      <td>1548</td>\n",
       "    </tr>\n",
       "    <tr>\n",
       "      <th>2</th>\n",
       "      <td>Availability</td>\n",
       "      <td>1447</td>\n",
       "    </tr>\n",
       "    <tr>\n",
       "      <th>3</th>\n",
       "      <td>Effectiveness</td>\n",
       "      <td>1297</td>\n",
       "    </tr>\n",
       "    <tr>\n",
       "      <th>4</th>\n",
       "      <td>Other</td>\n",
       "      <td>1277</td>\n",
       "    </tr>\n",
       "  </tbody>\n",
       "</table>\n",
       "</div>"
      ],
      "text/plain": [
       "  Reasons_for_choosing_brands  count\n",
       "0            Brand reputation   1993\n",
       "1     Taste/flavor preference   1548\n",
       "2                Availability   1447\n",
       "3               Effectiveness   1297\n",
       "4                       Other   1277"
      ]
     },
     "execution_count": 30,
     "metadata": {},
     "output_type": "execute_result"
    }
   ],
   "source": [
    "df_filter_brands.groupby(['Reasons_for_choosing_brands']).size().sort_values(ascending=False).reset_index(name=\"count\")"
   ]
  },
  {
   "cell_type": "markdown",
   "id": "80945be8-aaf5-4fb6-84d9-fc6722c652da",
   "metadata": {},
   "source": [
    "**People mostly prefer other brands because of it brand reputation followed by their Taste/flavor preference,Availability,Effectiveness,Other reasons**"
   ]
  },
  {
   "cell_type": "markdown",
   "id": "62b0a1fb-a82a-4c43-befa-ca7e706e7f4a",
   "metadata": {},
   "source": [
    "**4. Marketing Channels and Brand Awareness:**"
   ]
  },
  {
   "cell_type": "markdown",
   "id": "f44bd2bb-b41c-43cf-af20-38b02cc2a976",
   "metadata": {},
   "source": [
    "**a. Which marketing channel can be used to reach more customers?**"
   ]
  },
  {
   "cell_type": "code",
   "execution_count": 43,
   "id": "4527110e-fa12-4070-b0bd-88f8941b0dd5",
   "metadata": {},
   "outputs": [
    {
     "data": {
      "text/plain": [
       "<Axes: >"
      ]
     },
     "execution_count": 43,
     "metadata": {},
     "output_type": "execute_result"
    },
    {
     "data": {
      "image/png": "[encoded data removed]",
      "text/plain": [
       "<Figure size 640x480 with 1 Axes>"
      ]
     },
     "metadata": {},
     "output_type": "display_data"
    }
   ],
   "source": [
    "df_fact_survey_responses.groupby('Marketing_channels').size().plot(kind=\"pie\",autopct=\"%1.1f%%\")"
   ]
  },
  {
   "cell_type": "markdown",
   "id": "c3b53147-40a2-4a43-8f90-135f7a528237",
   "metadata": {},
   "source": [
    "**Answer:Online ads and TV commercials can be used to reach customers**"
   ]
  },
  {
   "cell_type": "markdown",
   "id": "df88900f-7c5a-4c22-ac15-183bbafa7721",
   "metadata": {},
   "source": [
    "**b. How effective are different marketing strategies and channels in reaching our \n",
    "customers?**"
   ]
  },
  {
   "cell_type": "code",
   "execution_count": 53,
   "id": "2a6bbc06-3c1e-4a57-b5ea-a3b07e928a3d",
   "metadata": {},
   "outputs": [
    {
     "data": {
      "text/html": [
       "<div>\n",
       "<style scoped>\n",
       "    .dataframe tbody tr th:only-of-type {\n",
       "        vertical-align: middle;\n",
       "    }\n",
       "\n",
       "    .dataframe tbody tr th {\n",
       "        vertical-align: top;\n",
       "    }\n",
       "\n",
       "    .dataframe thead th {\n",
       "        text-align: right;\n",
       "    }\n",
       "</style>\n",
       "<table border=\"1\" class=\"dataframe\">\n",
       "  <thead>\n",
       "    <tr style=\"text-align: right;\">\n",
       "      <th></th>\n",
       "      <th>Marketing_channels</th>\n",
       "      <th>Total Count of Marketing Channels</th>\n",
       "    </tr>\n",
       "  </thead>\n",
       "  <tbody>\n",
       "    <tr>\n",
       "      <th>0</th>\n",
       "      <td>Online ads</td>\n",
       "      <td>4020</td>\n",
       "    </tr>\n",
       "    <tr>\n",
       "      <th>4</th>\n",
       "      <td>TV commercials</td>\n",
       "      <td>2688</td>\n",
       "    </tr>\n",
       "    <tr>\n",
       "      <th>2</th>\n",
       "      <td>Outdoor billboards</td>\n",
       "      <td>1226</td>\n",
       "    </tr>\n",
       "    <tr>\n",
       "      <th>1</th>\n",
       "      <td>Other</td>\n",
       "      <td>1225</td>\n",
       "    </tr>\n",
       "    <tr>\n",
       "      <th>3</th>\n",
       "      <td>Print media</td>\n",
       "      <td>841</td>\n",
       "    </tr>\n",
       "  </tbody>\n",
       "</table>\n",
       "</div>"
      ],
      "text/plain": [
       "   Marketing_channels  Total Count of Marketing Channels\n",
       "0          Online ads                               4020\n",
       "4      TV commercials                               2688\n",
       "2  Outdoor billboards                               1226\n",
       "1               Other                               1225\n",
       "3         Print media                                841"
      ]
     },
     "execution_count": 53,
     "metadata": {},
     "output_type": "execute_result"
    }
   ],
   "source": [
    "df_marketing_channels=df_fact_survey_responses.groupby('Marketing_channels').size().reset_index(name=\"Total Count of Marketing Channels\")\n",
    "df_marketing_channels.sort_values(by='Total Count of Marketing Channels',ascending=False)"
   ]
  },
  {
   "cell_type": "code",
   "execution_count": 59,
   "id": "629ea8bc-eb2a-4593-be0f-4c542caae60f",
   "metadata": {},
   "outputs": [],
   "source": [
    "df_mar_age=df_merge.groupby(['Age','Marketing_channels']).size().reset_index(name=\"Count of Marketing Channels\")\n",
    "df_merge2=pd.merge(df_mar_age,df_marketing_channels,on=['Marketing_channels'])\n",
    "df_merge2['% Reach']=((df_merge2['Count of Marketing Channels']/df_merge2['Total Count of Marketing Channels'])*100).round(2)\n",
    "df_merge2=df_merge2.sort_values(by='Total Count of Marketing Channels',ascending=False)\n"
   ]
  },
  {
   "cell_type": "code",
   "execution_count": 62,
   "id": "96dbd9c5-1a6a-425f-957d-6259aeeb04ee",
   "metadata": {},
   "outputs": [
    {
     "data": {
      "text/plain": [
       "<matplotlib.legend.Legend at 0x187b3178ed0>"
      ]
     },
     "execution_count": 62,
     "metadata": {},
     "output_type": "execute_result"
    },
    {
     "data": {
      "image/png": "[encoded data removed]",
      "text/plain": [
       "<Figure size 1000x700 with 1 Axes>"
      ]
     },
     "metadata": {},
     "output_type": "display_data"
    }
   ],
   "source": [
    "plt.figure(figsize=(10,7))\n",
    "sns.barplot(data=df_merge2, x='Age', y='% Reach', hue='Marketing_channels')\n",
    "plt.title('% Reach of Marketing Channels')\n",
    "plt.xlabel('Age Category')\n",
    "plt.ylabel('%Reach')\n",
    "plt.legend(title='Marketing Channels', bbox_to_anchor=(1.05, 1), loc='upper left')"
   ]
  },
  {
   "cell_type": "markdown",
   "id": "37927fb2-f91d-437a-932a-29d262864fdb",
   "metadata": {},
   "source": [
    "**Answer:% Reach of online ads is more in age category 19-30**"
   ]
  },
  {
   "cell_type": "markdown",
   "id": "37766ca8-9cb2-4eda-b81e-1382bda54448",
   "metadata": {},
   "source": [
    "**5. Brand Penetration:**"
   ]
  },
  {
   "cell_type": "markdown",
   "id": "716b6354-65dd-4b9c-9a3c-bb6257ad3b6f",
   "metadata": {},
   "source": [
    "**a. What do people think about our brand? (overall rating)**"
   ]
  },
  {
   "cell_type": "code",
   "execution_count": 34,
   "id": "7c11eb34-d837-4cdb-b544-48b24dd7b432",
   "metadata": {},
   "outputs": [
    {
     "name": "stdout",
     "output_type": "stream",
     "text": [
      "Overall Rating: 3.27\n"
     ]
    }
   ],
   "source": [
    "df_codex=df_merge[df_merge['Current_brands'].isin([\"CodeX\"])]\n",
    "Overall_Rating=df_codex['Taste_experience'].mean().round(2)\n",
    "print(\"Overall Rating:\",Overall_Rating)"
   ]
  },
  {
   "cell_type": "markdown",
   "id": "0dd3ecac-a102-4a54-8821-b65828bc1f71",
   "metadata": {},
   "source": [
    "**b. Which cities do we need to focus more on?**"
   ]
  },
  {
   "cell_type": "code",
   "execution_count": 83,
   "id": "3f5456f9-765f-4f14-a061-8224c46ac237",
   "metadata": {},
   "outputs": [
    {
     "data": {
      "text/plain": [
       "<Axes: ylabel='City'>"
      ]
     },
     "execution_count": 83,
     "metadata": {},
     "output_type": "execute_result"
    },
    {
     "data": {
      "image/png": "[encoded data removed]",
      "text/plain": [
       "<Figure size 640x480 with 1 Axes>"
      ]
     },
     "metadata": {},
     "output_type": "display_data"
    }
   ],
   "source": [
    "df_merge_cities=pd.merge(df_codex,df_cities,on='City_ID')\n",
    "x=df_merge_cities.groupby('City').size().sort_values(ascending=False).reset_index(name=\"Count of Energy Drink Consumption\")\n",
    "x[\"Percenatge of Energy Drink Consumption\"]=(x[\"Count of Energy Drink Consumption\"]/x[\"Count of Energy Drink Consumption\"].sum())*100\n",
    "x[['City','Percenatge of Energy Drink Consumption']].plot(kind=\"barh\",x='City',color=\"green\")"
   ]
  },
  {
   "cell_type": "markdown",
   "id": "5741aedf-2bb4-4d7b-80a4-8c3e02c38f8b",
   "metadata": {},
   "source": [
    "**Answer:We should focus on Bangalore,Hyderabad,Mumbai**"
   ]
  },
  {
   "cell_type": "markdown",
   "id": "76495df5-26be-4995-996e-2f9be5d514d5",
   "metadata": {},
   "source": [
    "                                                    **6. Purchase Behavior:**"
   ]
  },
  {
   "cell_type": "markdown",
   "id": "a93a0f44-ea3b-4ecc-93ff-01b3333b7562",
   "metadata": {},
   "source": [
    "**a. Where do respondents prefer to purchase energy drinks?**"
   ]
  },
  {
   "cell_type": "code",
   "execution_count": 46,
   "id": "b457016d-ca1a-48c6-83e7-385c1efc52d7",
   "metadata": {},
   "outputs": [
    {
     "data": {
      "text/html": [
       "<div>\n",
       "<style scoped>\n",
       "    .dataframe tbody tr th:only-of-type {\n",
       "        vertical-align: middle;\n",
       "    }\n",
       "\n",
       "    .dataframe tbody tr th {\n",
       "        vertical-align: top;\n",
       "    }\n",
       "\n",
       "    .dataframe thead th {\n",
       "        text-align: right;\n",
       "    }\n",
       "</style>\n",
       "<table border=\"1\" class=\"dataframe\">\n",
       "  <thead>\n",
       "    <tr style=\"text-align: right;\">\n",
       "      <th></th>\n",
       "      <th>Purchase_location</th>\n",
       "      <th>Purchase Count</th>\n",
       "    </tr>\n",
       "  </thead>\n",
       "  <tbody>\n",
       "    <tr>\n",
       "      <th>0</th>\n",
       "      <td>Supermarkets</td>\n",
       "      <td>4494</td>\n",
       "    </tr>\n",
       "    <tr>\n",
       "      <th>1</th>\n",
       "      <td>Online retailers</td>\n",
       "      <td>2550</td>\n",
       "    </tr>\n",
       "    <tr>\n",
       "      <th>2</th>\n",
       "      <td>Gyms and fitness centers</td>\n",
       "      <td>1464</td>\n",
       "    </tr>\n",
       "    <tr>\n",
       "      <th>3</th>\n",
       "      <td>Local stores</td>\n",
       "      <td>813</td>\n",
       "    </tr>\n",
       "    <tr>\n",
       "      <th>4</th>\n",
       "      <td>Other</td>\n",
       "      <td>679</td>\n",
       "    </tr>\n",
       "  </tbody>\n",
       "</table>\n",
       "</div>"
      ],
      "text/plain": [
       "          Purchase_location  Purchase Count\n",
       "0              Supermarkets            4494\n",
       "1          Online retailers            2550\n",
       "2  Gyms and fitness centers            1464\n",
       "3              Local stores             813\n",
       "4                     Other             679"
      ]
     },
     "execution_count": 46,
     "metadata": {},
     "output_type": "execute_result"
    }
   ],
   "source": [
    "df_fact_survey_responses.groupby(\"Purchase_location\").size().sort_values(ascending=False).reset_index(name=\"Purchase Count\")"
   ]
  },
  {
   "cell_type": "markdown",
   "id": "11a5c36b-78dd-4a06-b71c-283fe5adfdf2",
   "metadata": {},
   "source": [
    "**Answer:They prefer Supermarkets,Online retailers,Gyms and fitness centers**"
   ]
  },
  {
   "cell_type": "markdown",
   "id": "ad2b030c-4282-4744-b799-46ad9cff6511",
   "metadata": {},
   "source": [
    "**b. What are the typical consumption situations for energy drinks among  respondents?**"
   ]
  },
  {
   "cell_type": "code",
   "execution_count": 5,
   "id": "17c86169-7f60-4689-86ad-26394dca9c9d",
   "metadata": {},
   "outputs": [
    {
     "data": {
      "text/html": [
       "<div>\n",
       "<style scoped>\n",
       "    .dataframe tbody tr th:only-of-type {\n",
       "        vertical-align: middle;\n",
       "    }\n",
       "\n",
       "    .dataframe tbody tr th {\n",
       "        vertical-align: top;\n",
       "    }\n",
       "\n",
       "    .dataframe thead th {\n",
       "        text-align: right;\n",
       "    }\n",
       "</style>\n",
       "<table border=\"1\" class=\"dataframe\">\n",
       "  <thead>\n",
       "    <tr style=\"text-align: right;\">\n",
       "      <th></th>\n",
       "      <th>Typical_consumption_situations</th>\n",
       "      <th>Frequency of Consumption</th>\n",
       "    </tr>\n",
       "  </thead>\n",
       "  <tbody>\n",
       "    <tr>\n",
       "      <th>0</th>\n",
       "      <td>Sports/exercise</td>\n",
       "      <td>4494</td>\n",
       "    </tr>\n",
       "    <tr>\n",
       "      <th>1</th>\n",
       "      <td>Studying/working late</td>\n",
       "      <td>3231</td>\n",
       "    </tr>\n",
       "    <tr>\n",
       "      <th>2</th>\n",
       "      <td>Social outings/parties</td>\n",
       "      <td>1487</td>\n",
       "    </tr>\n",
       "    <tr>\n",
       "      <th>3</th>\n",
       "      <td>Other</td>\n",
       "      <td>491</td>\n",
       "    </tr>\n",
       "    <tr>\n",
       "      <th>4</th>\n",
       "      <td>Driving/commuting</td>\n",
       "      <td>297</td>\n",
       "    </tr>\n",
       "  </tbody>\n",
       "</table>\n",
       "</div>"
      ],
      "text/plain": [
       "  Typical_consumption_situations  Frequency of Consumption\n",
       "0                Sports/exercise                      4494\n",
       "1          Studying/working late                      3231\n",
       "2         Social outings/parties                      1487\n",
       "3                          Other                       491\n",
       "4              Driving/commuting                       297"
      ]
     },
     "execution_count": 5,
     "metadata": {},
     "output_type": "execute_result"
    }
   ],
   "source": [
    "df_fact_survey_responses.groupby(\"Typical_consumption_situations\").size().sort_values(ascending=False).reset_index(name=\"Frequency of Consumption\")"
   ]
  },
  {
   "cell_type": "markdown",
   "id": "7190fbc5-9aa3-4335-a5b4-7f7071f0a93f",
   "metadata": {},
   "source": [
    "**Answer:People consume Energy drinks more during sports/excercise and when they study and work**"
   ]
  },
  {
   "cell_type": "markdown",
   "id": "829547c8-5c8e-42e5-93e2-833237c8d497",
   "metadata": {},
   "source": [
    "**c. What factors influence respondents' purchase decisions, such as price range and limited edition packaging?** "
   ]
  },
  {
   "cell_type": "code",
   "execution_count": 65,
   "id": "d0ab011f-2d4e-4abc-b748-05c2f7bdc941",
   "metadata": {},
   "outputs": [
    {
     "data": {
      "text/plain": [
       "Text(0.5, 1.0, 'Distribution of Limited Edition Packaging')"
      ]
     },
     "execution_count": 65,
     "metadata": {},
     "output_type": "execute_result"
    },
    {
     "data": {
      "image/png": "[encoded data removed]",
      "text/plain": [
       "<Figure size 640x480 with 1 Axes>"
      ]
     },
     "metadata": {},
     "output_type": "display_data"
    }
   ],
   "source": [
    "df_fact_survey_responses.groupby(['Limited_edition_packaging']).size().plot(kind=\"pie\",autopct=\"%1.1f%%\")\n",
    "plt.title(\"Distribution of Limited Edition Packaging\")"
   ]
  },
  {
   "cell_type": "code",
   "execution_count": 71,
   "id": "0d378a5a-054f-46d4-8cde-ebdad82b3420",
   "metadata": {},
   "outputs": [
    {
     "data": {
      "text/plain": [
       "Text(0.5, 1.0, 'Distribution of Price Range')"
      ]
     },
     "execution_count": 71,
     "metadata": {},
     "output_type": "execute_result"
    },
    {
     "data": {
      "image/png": "[encoded data removed]",
      "text/plain": [
       "<Figure size 640x480 with 1 Axes>"
      ]
     },
     "metadata": {},
     "output_type": "display_data"
    }
   ],
   "source": [
    "df_fact_survey_responses.groupby(['Price_range']).size().plot(kind=\"pie\",autopct=\"%1.1f%%\")\n",
    "plt.title(\"Distribution of Price Range\")"
   ]
  },
  {
   "cell_type": "markdown",
   "id": "8c3854b5-02ef-4074-84ec-2461d8bd9906",
   "metadata": {},
   "source": [
    "**Answer:40.2% of the consumers do not expect a change in the packaging while 39.5% of consumers are open to trying the Limited Edition Packaging.\n",
    "42.9% people prefer price range of 50-99 Rs**"
   ]
  },
  {
   "cell_type": "markdown",
   "id": "7df15162-435e-4720-9374-03475ef9dc5a",
   "metadata": {},
   "source": [
    "**7. Product Development**"
   ]
  },
  {
   "cell_type": "markdown",
   "id": "524ef1a5-edee-4099-b67c-9350375f7853",
   "metadata": {},
   "source": [
    "**a. Which area of business should we focus more on our product development? (Branding/taste/availability)**"
   ]
  },
  {
   "cell_type": "code",
   "execution_count": 37,
   "id": "7eb6b9d6-d64b-4a3d-a3bb-9e687539b17f",
   "metadata": {},
   "outputs": [
    {
     "data": {
      "text/html": [
       "<div>\n",
       "<style scoped>\n",
       "    .dataframe tbody tr th:only-of-type {\n",
       "        vertical-align: middle;\n",
       "    }\n",
       "\n",
       "    .dataframe tbody tr th {\n",
       "        vertical-align: top;\n",
       "    }\n",
       "\n",
       "    .dataframe thead th {\n",
       "        text-align: right;\n",
       "    }\n",
       "</style>\n",
       "<table border=\"1\" class=\"dataframe\">\n",
       "  <thead>\n",
       "    <tr style=\"text-align: right;\">\n",
       "      <th></th>\n",
       "      <th>Taste_experience</th>\n",
       "      <th>Response Frequency</th>\n",
       "    </tr>\n",
       "  </thead>\n",
       "  <tbody>\n",
       "    <tr>\n",
       "      <th>0</th>\n",
       "      <td>1</td>\n",
       "      <td>107</td>\n",
       "    </tr>\n",
       "    <tr>\n",
       "      <th>1</th>\n",
       "      <td>2</td>\n",
       "      <td>148</td>\n",
       "    </tr>\n",
       "    <tr>\n",
       "      <th>2</th>\n",
       "      <td>3</td>\n",
       "      <td>286</td>\n",
       "    </tr>\n",
       "    <tr>\n",
       "      <th>3</th>\n",
       "      <td>4</td>\n",
       "      <td>248</td>\n",
       "    </tr>\n",
       "    <tr>\n",
       "      <th>4</th>\n",
       "      <td>5</td>\n",
       "      <td>191</td>\n",
       "    </tr>\n",
       "  </tbody>\n",
       "</table>\n",
       "</div>"
      ],
      "text/plain": [
       "   Taste_experience  Response Frequency\n",
       "0                 1                 107\n",
       "1                 2                 148\n",
       "2                 3                 286\n",
       "3                 4                 248\n",
       "4                 5                 191"
      ]
     },
     "execution_count": 37,
     "metadata": {},
     "output_type": "execute_result"
    }
   ],
   "source": [
    "df_codex.groupby('Taste_experience').size().reset_index(name=\"Response Frequency\")"
   ]
  },
  {
   "cell_type": "code",
   "execution_count": 95,
   "id": "bcfadb33-6953-4170-b15b-f8e45e360750",
   "metadata": {},
   "outputs": [
    {
     "data": {
      "text/plain": [
       "Reasons_preventing_trying\n",
       "Not available locally    229\n",
       "dtype: int64"
      ]
     },
     "execution_count": 95,
     "metadata": {},
     "output_type": "execute_result"
    }
   ],
   "source": [
    "df_codex.query('Reasons_preventing_trying==\"Not available locally\"').groupby('Reasons_preventing_trying').size()\n",
    "x=df_codex.groupby('Reasons_preventing_trying').size()\n",
    "x"
   ]
  },
  {
   "cell_type": "code",
   "execution_count": 39,
   "id": "a392eb90-aa89-42ac-bb3e-d7bb928a819b",
   "metadata": {},
   "outputs": [
    {
     "data": {
      "text/plain": [
       "<Axes: >"
      ]
     },
     "execution_count": 39,
     "metadata": {},
     "output_type": "execute_result"
    },
    {
     "data": {
      "image/png": "[encoded data removed]",
      "text/plain": [
       "<Figure size 640x480 with 1 Axes>"
      ]
     },
     "metadata": {},
     "output_type": "display_data"
    }
   ],
   "source": [
    "df_codex.groupby('Reasons_preventing_trying').size().plot(kind=\"pie\",autopct=\"%1.1f%%\")\n"
   ]
  },
  {
   "cell_type": "markdown",
   "id": "603d3f73-cd85-4a54-b8c3-caec6eb8f407",
   "metadata": {},
   "source": [
    "**Answer:About 23.4% people are unable to try because of its Unavailability** "
   ]
  },
  {
   "cell_type": "code",
   "execution_count": 41,
   "id": "f9eef284-53d0-435e-a4e1-6ff28c0fe49f",
   "metadata": {},
   "outputs": [
    {
     "data": {
      "text/html": [
       "<div>\n",
       "<style scoped>\n",
       "    .dataframe tbody tr th:only-of-type {\n",
       "        vertical-align: middle;\n",
       "    }\n",
       "\n",
       "    .dataframe tbody tr th {\n",
       "        vertical-align: top;\n",
       "    }\n",
       "\n",
       "    .dataframe thead th {\n",
       "        text-align: right;\n",
       "    }\n",
       "</style>\n",
       "<table border=\"1\" class=\"dataframe\">\n",
       "  <thead>\n",
       "    <tr style=\"text-align: right;\">\n",
       "      <th></th>\n",
       "      <th>Brand_perception</th>\n",
       "      <th>Response Frequency</th>\n",
       "    </tr>\n",
       "  </thead>\n",
       "  <tbody>\n",
       "    <tr>\n",
       "      <th>0</th>\n",
       "      <td>Neutral</td>\n",
       "      <td>589</td>\n",
       "    </tr>\n",
       "    <tr>\n",
       "      <th>1</th>\n",
       "      <td>Positive</td>\n",
       "      <td>219</td>\n",
       "    </tr>\n",
       "    <tr>\n",
       "      <th>2</th>\n",
       "      <td>Negative</td>\n",
       "      <td>172</td>\n",
       "    </tr>\n",
       "  </tbody>\n",
       "</table>\n",
       "</div>"
      ],
      "text/plain": [
       "  Brand_perception  Response Frequency\n",
       "0          Neutral                 589\n",
       "1         Positive                 219\n",
       "2         Negative                 172"
      ]
     },
     "execution_count": 41,
     "metadata": {},
     "output_type": "execute_result"
    }
   ],
   "source": [
    "df_codex.groupby('Brand_perception').size().sort_values(ascending=False).reset_index(name=\"Response Frequency\")"
   ]
  },
  {
   "cell_type": "markdown",
   "id": "6aa17d1a-168d-430a-891b-d714cd75d4cd",
   "metadata": {},
   "source": [
    "**Answer:Only 219 people have positive response**"
   ]
  },
  {
   "cell_type": "markdown",
   "id": "a7e8d1b5-447b-498f-a169-49405d8c6bb1",
   "metadata": {},
   "source": [
    "**Recommendations to Marketing Team:**"
   ]
  },
  {
   "cell_type": "markdown",
   "id": "fc307172-0e14-40e9-a53e-c085aae10a4a",
   "metadata": {},
   "source": [
    "**1.What immediate improvements can we bring to the product?**"
   ]
  },
  {
   "cell_type": "markdown",
   "id": "b4136726-2970-490f-9413-00880feae892",
   "metadata": {},
   "source": [
    "**Answer:Based on the response we should focus on\n",
    "1.Product Availability\n",
    "2.Packaging- Compact Portable cans\n",
    "3.Ingredients- Caffeine and vitamins more**\n"
   ]
  },
  {
   "cell_type": "markdown",
   "id": "8c1c4974-b904-46c4-8943-69e47fb167f3",
   "metadata": {},
   "source": [
    "**2.What should be the ideal price of our product?**"
   ]
  },
  {
   "cell_type": "markdown",
   "id": "7b45b009-c1ea-4df6-8765-45dce9908115",
   "metadata": {},
   "source": [
    "**Answer:Based on the response people majority of people prefer Price Range-50-150**"
   ]
  },
  {
   "cell_type": "markdown",
   "id": "43134bc3-af2e-4130-9aaa-3751a45658c6",
   "metadata": {},
   "source": [
    "**3.What kind of marketing campaigns, offers, and discounts we can run?**"
   ]
  },
  {
   "cell_type": "markdown",
   "id": "a2d2c88a-4329-4420-a601-6e4c5558c50b",
   "metadata": {},
   "source": [
    "**Answer:Since reach of online ads are more the age group 19-30, marketing campaings through social media influencers(mainly instagram) \n",
    "  can have potential impact and also by providing exclusive offers in limited edition packaging can create hype among aundience**\n"
   ]
  },
  {
   "cell_type": "markdown",
   "id": "5fd32e27-3028-4e9e-a12e-46ecadb4888d",
   "metadata": {},
   "source": [
    "**4.Who can be a brand ambassador, and why?**"
   ]
  },
  {
   "cell_type": "markdown",
   "id": "d1f36a2b-9698-4752-812d-dd6926cf0bbd",
   "metadata": {},
   "source": [
    "**Answer: A suitable brand ambassador should possess nationwide recognition and appeal to our target audience, primarily located in Bangalore, Hyderabad, and Mumbai.\n",
    "Considering these requirements, I recommend Yash, the star of KGF, and Rashmika Mandanna. \n",
    "Both celebrities have achieved widespread fame across India and maintain strong connections with the audience.**"
   ]
  }
 ],
 "metadata": {
  "kernelspec": {
   "display_name": "Python 3 (ipykernel)",
   "language": "python",
   "name": "python3"
  },
  "language_info": {
   "codemirror_mode": {
    "name": "ipython",
    "version": 3
   },
   "file_extension": ".py",
   "mimetype": "text/x-python",
   "name": "python",
   "nbconvert_exporter": "python",
   "pygments_lexer": "ipython3",
   "version": "3.11.5"
  }
 },
 "nbformat": 4,
 "nbformat_minor": 5
}
